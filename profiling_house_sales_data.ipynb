{
 "cells": [
  {
   "cell_type": "code",
   "execution_count": 1,
   "metadata": {},
   "outputs": [],
   "source": [
    "import pandas as pd"
   ]
  },
  {
   "cell_type": "code",
   "execution_count": 2,
   "metadata": {},
   "outputs": [],
   "source": [
    "# Load the data from the CSV file\n",
    "house_sales_df = pd.read_csv('./house_sales.csv')"
   ]
  },
  {
   "cell_type": "code",
   "execution_count": 3,
   "metadata": {},
   "outputs": [
    {
     "name": "stdout",
     "output_type": "stream",
     "text": [
      "\n",
      "Random sample of 5 rows from the DataFrame:\n"
     ]
    },
    {
     "data": {
      "text/html": [
       "<div>\n",
       "<style scoped>\n",
       "    .dataframe tbody tr th:only-of-type {\n",
       "        vertical-align: middle;\n",
       "    }\n",
       "\n",
       "    .dataframe tbody tr th {\n",
       "        vertical-align: top;\n",
       "    }\n",
       "\n",
       "    .dataframe thead th {\n",
       "        text-align: right;\n",
       "    }\n",
       "</style>\n",
       "<table border=\"1\" class=\"dataframe\">\n",
       "  <thead>\n",
       "    <tr style=\"text-align: right;\">\n",
       "      <th></th>\n",
       "      <th>house_id</th>\n",
       "      <th>city</th>\n",
       "      <th>sale_price</th>\n",
       "      <th>sale_date</th>\n",
       "      <th>months_listed</th>\n",
       "      <th>bedrooms</th>\n",
       "      <th>house_type</th>\n",
       "      <th>area</th>\n",
       "    </tr>\n",
       "  </thead>\n",
       "  <tbody>\n",
       "    <tr>\n",
       "      <th>561</th>\n",
       "      <td>1734487</td>\n",
       "      <td>Silvertown</td>\n",
       "      <td>61746</td>\n",
       "      <td>2/3/2021</td>\n",
       "      <td>5.7</td>\n",
       "      <td>2</td>\n",
       "      <td>Terraced</td>\n",
       "      <td>169.5 sq.m.</td>\n",
       "    </tr>\n",
       "    <tr>\n",
       "      <th>756</th>\n",
       "      <td>1605792</td>\n",
       "      <td>Teasdale</td>\n",
       "      <td>230687</td>\n",
       "      <td>7/7/2021</td>\n",
       "      <td>3.1</td>\n",
       "      <td>3</td>\n",
       "      <td>Detached</td>\n",
       "      <td>298.8 sq.m.</td>\n",
       "    </tr>\n",
       "    <tr>\n",
       "      <th>33</th>\n",
       "      <td>1834295</td>\n",
       "      <td>Silvertown</td>\n",
       "      <td>198761</td>\n",
       "      <td>1/19/2020</td>\n",
       "      <td>6.9</td>\n",
       "      <td>3</td>\n",
       "      <td>Detached</td>\n",
       "      <td>270.6 sq.m.</td>\n",
       "    </tr>\n",
       "    <tr>\n",
       "      <th>1243</th>\n",
       "      <td>1421698</td>\n",
       "      <td>Poppleton</td>\n",
       "      <td>332567</td>\n",
       "      <td>6/20/2022</td>\n",
       "      <td>4.5</td>\n",
       "      <td>6</td>\n",
       "      <td>Detached</td>\n",
       "      <td>565.0 sq.m.</td>\n",
       "    </tr>\n",
       "    <tr>\n",
       "      <th>1428</th>\n",
       "      <td>1105394</td>\n",
       "      <td>Riverford</td>\n",
       "      <td>210891</td>\n",
       "      <td>11/10/2022</td>\n",
       "      <td>7.3</td>\n",
       "      <td>5</td>\n",
       "      <td>Detached</td>\n",
       "      <td>443.5 sq.m.</td>\n",
       "    </tr>\n",
       "  </tbody>\n",
       "</table>\n",
       "</div>"
      ],
      "text/plain": [
       "      house_id        city  sale_price   sale_date  months_listed  bedrooms  \\\n",
       "561    1734487  Silvertown       61746    2/3/2021            5.7         2   \n",
       "756    1605792    Teasdale      230687    7/7/2021            3.1         3   \n",
       "33     1834295  Silvertown      198761   1/19/2020            6.9         3   \n",
       "1243   1421698   Poppleton      332567   6/20/2022            4.5         6   \n",
       "1428   1105394   Riverford      210891  11/10/2022            7.3         5   \n",
       "\n",
       "     house_type         area  \n",
       "561    Terraced  169.5 sq.m.  \n",
       "756    Detached  298.8 sq.m.  \n",
       "33     Detached  270.6 sq.m.  \n",
       "1243   Detached  565.0 sq.m.  \n",
       "1428   Detached  443.5 sq.m.  "
      ]
     },
     "execution_count": 3,
     "metadata": {},
     "output_type": "execute_result"
    }
   ],
   "source": [
    "# Display a random sample of 5 rows from the DataFrame\n",
    "print(\"\\nRandom sample of 5 rows from the DataFrame:\")\n",
    "house_sales_df.sample(5)"
   ]
  },
  {
   "cell_type": "code",
   "execution_count": 4,
   "metadata": {},
   "outputs": [
    {
     "name": "stdout",
     "output_type": "stream",
     "text": [
      "\n",
      "DataFrame information:\n",
      "<class 'pandas.core.frame.DataFrame'>\n",
      "RangeIndex: 1500 entries, 0 to 1499\n",
      "Data columns (total 8 columns):\n",
      " #   Column         Non-Null Count  Dtype  \n",
      "---  ------         --------------  -----  \n",
      " 0   house_id       1500 non-null   int64  \n",
      " 1   city           1500 non-null   object \n",
      " 2   sale_price     1500 non-null   int64  \n",
      " 3   sale_date      1500 non-null   object \n",
      " 4   months_listed  1469 non-null   float64\n",
      " 5   bedrooms       1500 non-null   int64  \n",
      " 6   house_type     1500 non-null   object \n",
      " 7   area           1500 non-null   object \n",
      "dtypes: float64(1), int64(3), object(4)\n",
      "memory usage: 93.9+ KB\n",
      "None\n"
     ]
    }
   ],
   "source": [
    "# Display concise information about the DataFrame\n",
    "print(\"\\nDataFrame information:\")\n",
    "print(house_sales_df.info())"
   ]
  },
  {
   "cell_type": "code",
   "execution_count": 5,
   "metadata": {},
   "outputs": [
    {
     "name": "stdout",
     "output_type": "stream",
     "text": [
      "\n",
      "Count of null values in each column:\n",
      "house_id          0\n",
      "city              0\n",
      "sale_price        0\n",
      "sale_date         0\n",
      "months_listed    31\n",
      "bedrooms          0\n",
      "house_type        0\n",
      "area              0\n",
      "dtype: int64\n"
     ]
    }
   ],
   "source": [
    "# Display the count of null values in each column\n",
    "print(\"\\nCount of null values in each column:\")\n",
    "print(house_sales_df.isnull().sum())"
   ]
  },
  {
   "cell_type": "code",
   "execution_count": 6,
   "metadata": {},
   "outputs": [
    {
     "name": "stdout",
     "output_type": "stream",
     "text": [
      "\n",
      "Unique values in 'city' column:\n",
      "['Silvertown' 'Teasdale' 'Poppleton' 'Riverford' '--']\n",
      "\n",
      "Value counts for 'city':\n",
      "Silvertown    517\n",
      "Teasdale      366\n",
      "Poppleton     362\n",
      "Riverford     182\n",
      "--             73\n",
      "Name: city, dtype: int64\n"
     ]
    }
   ],
   "source": [
    "\n",
    "# Display unique values in the 'city' column and Value counts\n",
    "print(\"\\nUnique values in 'city' column:\")\n",
    "print(house_sales_df['city'].unique())\n",
    "\n",
    "print(\"\\nValue counts for 'city':\")\n",
    "print(house_sales_df['city'].value_counts())\n"
   ]
  },
  {
   "cell_type": "code",
   "execution_count": 7,
   "metadata": {},
   "outputs": [
    {
     "name": "stdout",
     "output_type": "stream",
     "text": [
      "\n",
      "Unique values in 'house_type' column:\n",
      "['Semi-detached' 'Detached' 'Terraced' 'Det.' 'Terr.' 'Semi']\n",
      "\n",
      "Value counts for 'house_type':\n",
      "Detached         1046\n",
      "Semi-detached     231\n",
      "Terraced          123\n",
      "Det.               78\n",
      "Semi               14\n",
      "Terr.               8\n",
      "Name: house_type, dtype: int64\n"
     ]
    }
   ],
   "source": [
    "# Display unique values in the 'house_type' column and Value counts\n",
    "print(\"\\nUnique values in 'house_type' column:\")\n",
    "print(house_sales_df['house_type'].unique())\n",
    "\n",
    "print(\"\\nValue counts for 'house_type':\")\n",
    "print(house_sales_df['house_type'].value_counts())"
   ]
  },
  {
   "cell_type": "code",
   "execution_count": 8,
   "metadata": {},
   "outputs": [
    {
     "name": "stdout",
     "output_type": "stream",
     "text": [
      "3    314\n",
      "6    306\n",
      "5    305\n",
      "2    288\n",
      "4    287\n",
      "Name: bedrooms, dtype: int64\n"
     ]
    }
   ],
   "source": [
    "# Display unique values in the 'bedrooms' column and Value counts\n",
    "print(house_sales_df['bedrooms'].value_counts())"
   ]
  }
 ],
 "metadata": {
  "kernelspec": {
   "display_name": "base",
   "language": "python",
   "name": "python3"
  },
  "language_info": {
   "codemirror_mode": {
    "name": "ipython",
    "version": 3
   },
   "file_extension": ".py",
   "mimetype": "text/x-python",
   "name": "python",
   "nbconvert_exporter": "python",
   "pygments_lexer": "ipython3",
   "version": "3.8.8"
  }
 },
 "nbformat": 4,
 "nbformat_minor": 2
}
