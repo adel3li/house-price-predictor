{
 "cells": [
  {
   "cell_type": "code",
   "execution_count": 6,
   "metadata": {},
   "outputs": [],
   "source": [
    "import pandas as pd"
   ]
  },
  {
   "cell_type": "code",
   "execution_count": 7,
   "metadata": {},
   "outputs": [],
   "source": [
    "# Load the data from the CSV file\n",
    "house_sales = pd.read_csv('./cleaned_house_sales.csv')"
   ]
  },
  {
   "cell_type": "code",
   "execution_count": 8,
   "metadata": {},
   "outputs": [
    {
     "name": "stdout",
     "output_type": "stream",
     "text": [
      "\n",
      "Random sample of 5 rows from the DataFrame:\n"
     ]
    },
    {
     "data": {
      "text/html": [
       "<div>\n",
       "<style scoped>\n",
       "    .dataframe tbody tr th:only-of-type {\n",
       "        vertical-align: middle;\n",
       "    }\n",
       "\n",
       "    .dataframe tbody tr th {\n",
       "        vertical-align: top;\n",
       "    }\n",
       "\n",
       "    .dataframe thead th {\n",
       "        text-align: right;\n",
       "    }\n",
       "</style>\n",
       "<table border=\"1\" class=\"dataframe\">\n",
       "  <thead>\n",
       "    <tr style=\"text-align: right;\">\n",
       "      <th></th>\n",
       "      <th>house_id</th>\n",
       "      <th>city</th>\n",
       "      <th>sale_price</th>\n",
       "      <th>sale_date</th>\n",
       "      <th>months_listed</th>\n",
       "      <th>bedrooms</th>\n",
       "      <th>house_type</th>\n",
       "      <th>area</th>\n",
       "    </tr>\n",
       "  </thead>\n",
       "  <tbody>\n",
       "    <tr>\n",
       "      <th>921</th>\n",
       "      <td>1819804</td>\n",
       "      <td>Poppleton</td>\n",
       "      <td>231562</td>\n",
       "      <td>10/25/2021</td>\n",
       "      <td>4.9</td>\n",
       "      <td>4</td>\n",
       "      <td>Detached</td>\n",
       "      <td>373.1 sq.m.</td>\n",
       "    </tr>\n",
       "    <tr>\n",
       "      <th>1094</th>\n",
       "      <td>1710617</td>\n",
       "      <td>Poppleton</td>\n",
       "      <td>225617</td>\n",
       "      <td>2/25/2022</td>\n",
       "      <td>7.0</td>\n",
       "      <td>4</td>\n",
       "      <td>Detached</td>\n",
       "      <td>339.5 sq.m.</td>\n",
       "    </tr>\n",
       "    <tr>\n",
       "      <th>535</th>\n",
       "      <td>1910080</td>\n",
       "      <td>Silvertown</td>\n",
       "      <td>334028</td>\n",
       "      <td>1/14/2021</td>\n",
       "      <td>5.7</td>\n",
       "      <td>5</td>\n",
       "      <td>Detached</td>\n",
       "      <td>467.7 sq.m.</td>\n",
       "    </tr>\n",
       "    <tr>\n",
       "      <th>274</th>\n",
       "      <td>1866287</td>\n",
       "      <td>Riverford</td>\n",
       "      <td>200658</td>\n",
       "      <td>7/22/2020</td>\n",
       "      <td>3.5</td>\n",
       "      <td>5</td>\n",
       "      <td>Detached</td>\n",
       "      <td>409.5 sq.m.</td>\n",
       "    </tr>\n",
       "    <tr>\n",
       "      <th>121</th>\n",
       "      <td>1554766</td>\n",
       "      <td>Poppleton</td>\n",
       "      <td>212534</td>\n",
       "      <td>3/27/2020</td>\n",
       "      <td>5.1</td>\n",
       "      <td>4</td>\n",
       "      <td>Detached</td>\n",
       "      <td>332.5 sq.m.</td>\n",
       "    </tr>\n",
       "  </tbody>\n",
       "</table>\n",
       "</div>"
      ],
      "text/plain": [
       "      house_id        city  sale_price   sale_date  months_listed  bedrooms  \\\n",
       "921    1819804   Poppleton      231562  10/25/2021            4.9         4   \n",
       "1094   1710617   Poppleton      225617   2/25/2022            7.0         4   \n",
       "535    1910080  Silvertown      334028   1/14/2021            5.7         5   \n",
       "274    1866287   Riverford      200658   7/22/2020            3.5         5   \n",
       "121    1554766   Poppleton      212534   3/27/2020            5.1         4   \n",
       "\n",
       "     house_type         area  \n",
       "921    Detached  373.1 sq.m.  \n",
       "1094   Detached  339.5 sq.m.  \n",
       "535    Detached  467.7 sq.m.  \n",
       "274    Detached  409.5 sq.m.  \n",
       "121    Detached  332.5 sq.m.  "
      ]
     },
     "execution_count": 8,
     "metadata": {},
     "output_type": "execute_result"
    }
   ],
   "source": [
    "# Display a random sample of 5 rows from the DataFrame\n",
    "print(\"\\nRandom sample of 5 rows from the DataFrame:\")\n",
    "house_sales.sample(5)"
   ]
  },
  {
   "cell_type": "code",
   "execution_count": 9,
   "metadata": {},
   "outputs": [
    {
     "name": "stdout",
     "output_type": "stream",
     "text": [
      "\n",
      "Summary statistics of numerical columns:\n",
      "           house_id     sale_price  months_listed     bedrooms\n",
      "count  1.500000e+03    1500.000000    1500.000000  1500.000000\n",
      "mean   1.501071e+06  228121.500000       5.901467     4.018000\n",
      "std    2.835584e+05  117908.147306       1.933759     1.413391\n",
      "min    1.000296e+06   26348.000000       0.500000     2.000000\n",
      "25%    1.258978e+06  127470.750000       4.600000     3.000000\n",
      "50%    1.509208e+06  230058.500000       5.900000     4.000000\n",
      "75%    1.734578e+06  316793.500000       7.200000     5.000000\n",
      "max    1.999721e+06  509536.000000      12.300000     6.000000\n"
     ]
    }
   ],
   "source": [
    "\n",
    "# Display summary statistics (count, mean, std, min, and max) of the numerical columns\n",
    "print(\"\\nSummary statistics of numerical columns:\")\n",
    "print(house_sales.describe())"
   ]
  },
  {
   "cell_type": "code",
   "execution_count": null,
   "metadata": {},
   "outputs": [],
   "source": []
  },
  {
   "cell_type": "code",
   "execution_count": null,
   "metadata": {},
   "outputs": [],
   "source": []
  },
  {
   "cell_type": "code",
   "execution_count": 1,
   "metadata": {},
   "outputs": [
    {
     "ename": "ModuleNotFoundError",
     "evalue": "No module named 'streamlit'",
     "output_type": "error",
     "traceback": [
      "\u001b[1;31m---------------------------------------------------------------------------\u001b[0m",
      "\u001b[1;31mModuleNotFoundError\u001b[0m                       Traceback (most recent call last)",
      "\u001b[1;32m<ipython-input-1-06ee28c99fd5>\u001b[0m in \u001b[0;36m<module>\u001b[1;34m\u001b[0m\n\u001b[1;32m----> 1\u001b[1;33m \u001b[1;32mimport\u001b[0m \u001b[0mstreamlit\u001b[0m \u001b[1;32mas\u001b[0m \u001b[0mst\u001b[0m\u001b[1;33m\u001b[0m\u001b[1;33m\u001b[0m\u001b[0m\n\u001b[0m\u001b[0;32m      2\u001b[0m \u001b[1;32mimport\u001b[0m \u001b[0mpandas\u001b[0m \u001b[1;32mas\u001b[0m \u001b[0mpd\u001b[0m\u001b[1;33m\u001b[0m\u001b[1;33m\u001b[0m\u001b[0m\n\u001b[0;32m      3\u001b[0m \u001b[1;32mfrom\u001b[0m \u001b[0msklearn\u001b[0m\u001b[1;33m.\u001b[0m\u001b[0mensemble\u001b[0m \u001b[1;32mimport\u001b[0m \u001b[0mRandomForestRegressor\u001b[0m\u001b[1;33m\u001b[0m\u001b[1;33m\u001b[0m\u001b[0m\n\u001b[0;32m      4\u001b[0m \u001b[1;33m\u001b[0m\u001b[0m\n\u001b[0;32m      5\u001b[0m \u001b[1;31m# Load processed training data\u001b[0m\u001b[1;33m\u001b[0m\u001b[1;33m\u001b[0m\u001b[1;33m\u001b[0m\u001b[0m\n",
      "\u001b[1;31mModuleNotFoundError\u001b[0m: No module named 'streamlit'"
     ]
    }
   ],
   "source": [
    "import streamlit as st\n",
    "import pandas as pd\n",
    "from sklearn.ensemble import RandomForestRegressor\n",
    "\n",
    "# Load processed training data\n",
    "train_data = pd.read_csv('processed_train_df.csv')\n",
    "\n",
    "# Train a simple RandomForestRegressor (replace this with your actual model training)\n",
    "model = RandomForestRegressor()\n",
    "features = train_data[['bedrooms', 'house_type_Detached', 'house_type_Semi-detached', 'house_type_Terraced',\n",
    "                       'area', 'city_Poppleton', 'city_Riverford', 'city_Silvertown', 'city_Teasdale']]\n",
    "target = train_data['sale_price']\n",
    "model.fit(features, target)\n",
    "\n",
    "# Streamlit App\n",
    "st.title(\"Real Estate Price Prediction App\")\n",
    "\n",
    "# Sidebar with user input\n",
    "st.sidebar.header(\"User Input Features\")\n",
    "\n",
    "# Collect user input features\n",
    "bedrooms = st.sidebar.slider(\"Bedrooms\", min_value=1, max_value=10, value=5)\n",
    "house_type = st.sidebar.selectbox(\"House Type\", ['Terraced', 'Semi-detached', 'Detached'])\n",
    "area = st.sidebar.slider(\"Area (sq.m.)\", min_value=50, max_value=1000, value=200)\n",
    "city = st.sidebar.selectbox(\"City\", ['Silvertown', 'Riverford', 'Teasdale', 'Poppleton'])\n",
    "\n",
    "# Perform one-hot encoding for 'house_type' and 'city'\n",
    "user_input = pd.DataFrame({\n",
    "    'bedrooms': [bedrooms],\n",
    "    'house_type_Detached': [1 if house_type == 'Detached' else 0],\n",
    "    'house_type_Semi-detached': [1 if house_type == 'Semi-detached' else 0],\n",
    "    'house_type_Terraced': [1 if house_type == 'Terraced' else 0],\n",
    "    'area': [area],\n",
    "    'city_Poppleton': [1 if city == 'Poppleton' else 0],\n",
    "    'city_Riverford': [1 if city == 'Riverford' else 0],\n",
    "    'city_Silvertown': [1 if city == 'Silvertown' else 0],\n",
    "    'city_Teasdale': [1 if city == 'Teasdale' else 0]\n",
    "})\n",
    "\n",
    "# Make prediction using the trained model\n",
    "prediction = model.predict(user_input)\n",
    "\n",
    "# Display the prediction\n",
    "st.subheader(\"Predicted Sale Price:\")\n",
    "st.write(f\"${prediction[0]:,.2f}\")\n"
   ]
  }
 ],
 "metadata": {
  "kernelspec": {
   "display_name": "base",
   "language": "python",
   "name": "python3"
  },
  "language_info": {
   "codemirror_mode": {
    "name": "ipython",
    "version": 3
   },
   "file_extension": ".py",
   "mimetype": "text/x-python",
   "name": "python",
   "nbconvert_exporter": "python",
   "pygments_lexer": "ipython3",
   "version": "3.8.8"
  }
 },
 "nbformat": 4,
 "nbformat_minor": 2
}
